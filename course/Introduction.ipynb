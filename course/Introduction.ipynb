{
 "cells": [
  {
   "cell_type": "markdown",
   "metadata": {},
   "source": [
    "# **Introduction to Parallel Computing** \n",
    "\n",
    "- parte introdutória da disciplina\n",
    "- falar sobre introdução a arquiteturas paralelas\n",
    "- falar sobre a necessidade de programar paralelo\n",
    "- falar sobre medidas de desempenho\n",
    "- falar sobre análise de códigos em paralelo.."
   ]
  }
 ],
 "metadata": {
  "language_info": {
   "name": "python"
  },
  "orig_nbformat": 4
 },
 "nbformat": 4,
 "nbformat_minor": 2
}
